{
 "cells": [
  {
   "cell_type": "code",
   "execution_count": 9,
   "id": "40af14da-6d78-4708-8100-59e88fac6fba",
   "metadata": {},
   "outputs": [],
   "source": [
    "from huggingface_hub import hf_hub_download\n",
    "import fasttext\n",
    "import numpy as np\n",
    "import seaborn as sns\n",
    "\n",
    "from sklearn.manifold import TSNE\n",
    "from sklearn.metrics.pairwise import euclidean_distances"
   ]
  },
  {
   "cell_type": "code",
   "execution_count": 12,
   "id": "fb4db17e-1671-47d6-8cae-9d061fd8378b",
   "metadata": {},
   "outputs": [],
   "source": [
    "model = fasttext.load_model(hf_hub_download(\"facebook/fasttext-en-vectors\", \"model.bin\"))"
   ]
  },
  {
   "cell_type": "markdown",
   "id": "4da70cd3-bbed-4f7a-be12-b151f8f5a56b",
   "metadata": {},
   "source": [
    "### Exploring embeddings around feminism\n",
    "\n",
    "Since many of today's large scale AI/ML models are built on some sort of input embedding -- which takes human-readable/understandable inputs and maps them to some multi-dimensional representative space (much less transparent!), let's take some time exploring this intransparent space by investigating what's near feminism, identities and realities in a not always so feminist world."
   ]
  },
  {
   "cell_type": "code",
   "execution_count": 13,
   "id": "df14590c-95ab-4b50-be66-ed95efef25e8",
   "metadata": {},
   "outputs": [
    {
     "data": {
      "text/plain": [
       "array([ 0.02678143, -0.00353684,  0.01381772,  0.00596085,  0.02891254,\n",
       "       -0.11198819,  0.02797039,  0.02134818, -0.07059024,  0.02400818,\n",
       "        0.09692445, -0.02212198,  0.02144069, -0.05681823,  0.03355433,\n",
       "       -0.01360292, -0.02102624, -0.07297309,  0.07791328,  0.05127743,\n",
       "        0.02282899,  0.00185156, -0.00044894,  0.0009513 ,  0.01840483,\n",
       "        0.04201579, -0.06890506,  0.04650574,  0.00187001,  0.14876586,\n",
       "       -0.03576516, -0.03372364,  0.03770614,  0.00435212,  0.03939367,\n",
       "       -0.02530807,  0.04284175,  0.00569184, -0.04743826, -0.01793975,\n",
       "        0.04134011, -0.04805966, -0.06746754, -0.0300882 , -0.06349395,\n",
       "       -0.04741967,  0.02460077,  0.02172125,  0.02234406, -0.03771369,\n",
       "        0.00761514,  0.02614597,  0.04788882,  0.05160837,  0.02384743,\n",
       "       -0.03084107,  0.09231245,  0.02081098, -0.05271717,  0.0046657 ,\n",
       "       -0.01658326, -0.15089461, -0.05049523,  0.03775992,  0.07006467,\n",
       "        0.00577049,  0.04534005,  0.02304992,  0.00038593,  0.01133899,\n",
       "       -0.02161471, -0.04667279, -0.04480937,  0.05150481, -0.00126885,\n",
       "       -0.02837345,  0.06344112, -0.05051854, -0.01299003,  0.01106559,\n",
       "        0.03490059, -0.03028673,  0.11152852,  0.06840705, -0.03328243,\n",
       "       -0.12162988,  0.01919607, -0.05796549, -0.02151386,  0.01822301,\n",
       "       -0.01703831, -0.04371879, -0.01715468, -0.00557084,  0.03750912,\n",
       "        0.00781664, -0.01733641,  0.09549532, -0.03065057,  0.04333147,\n",
       "        0.05907568,  0.00422632,  0.00345399,  0.0137914 ,  0.06177724,\n",
       "       -0.04352085,  0.06294136, -0.09973813, -0.06421138,  0.05123748,\n",
       "        0.04303538, -0.01619346,  0.01818617,  0.03104133, -0.00472019,\n",
       "        0.04214733, -0.22214249,  0.06534952, -0.04436015,  0.01122533,\n",
       "        0.02419459, -0.02216162, -0.02180081, -0.04182958, -0.04408597,\n",
       "        0.0697609 ,  0.0675941 , -0.03025177, -0.0658437 ,  0.00038445,\n",
       "       -0.02174075, -0.03764023,  0.01533519, -0.01263839,  0.02224854,\n",
       "       -0.05807651,  0.02781175,  0.00443267, -0.04403795,  0.02542632,\n",
       "        0.00264321,  0.08880771,  0.04014864,  0.05887581,  0.03140547,\n",
       "       -0.05434791, -0.10147209,  0.01398825, -0.01543715,  0.0056439 ,\n",
       "        0.00715007, -0.00985497,  0.00254878, -0.00585679, -0.03447351,\n",
       "       -0.04888167,  0.04794389, -0.04182199,  0.03875306,  0.04795684,\n",
       "        0.04597547,  0.05625062,  0.03533161, -0.01898116, -0.05719062,\n",
       "       -0.0569848 , -0.01294771, -0.03191045,  0.02317625,  0.02830512,\n",
       "       -0.03343962,  0.05168799, -0.0258511 ,  0.02832658,  0.05333971,\n",
       "       -0.00574242, -0.04764311,  0.02855364, -0.03278091,  0.04405109,\n",
       "        0.00553229, -0.0059061 ,  0.00182715, -0.02484157,  0.03471687,\n",
       "        0.08504322,  0.023888  , -0.01773983, -0.02414099, -0.04379102,\n",
       "        0.03334187,  0.09492478,  0.05252089,  0.01482123,  0.09265602,\n",
       "       -0.02693698, -0.05368133, -0.07943781, -0.04769992,  0.00196289,\n",
       "        0.01126046, -0.00383281, -0.10172806,  0.01782713,  0.00230614,\n",
       "       -0.03112595, -0.01918093, -0.01480173, -0.01819006,  0.03060453,\n",
       "       -0.06506138, -0.05682251, -0.01613846,  0.03039804,  0.02080297,\n",
       "        0.00335228,  0.03704561,  0.01624804,  0.01411695,  0.08136664,\n",
       "        0.0373083 , -0.03728656, -0.00138391, -0.01166422,  0.04647581,\n",
       "       -0.0077006 , -0.10493003,  0.00588616,  0.03451346, -0.00168959,\n",
       "        0.06623581, -0.0220884 ,  0.03703971,  0.05499501, -0.05770727,\n",
       "       -0.0305993 ,  0.07712959,  0.02775914, -0.03430247,  0.07527878,\n",
       "       -0.00498345,  0.05801766, -0.05777347, -0.05306557,  0.04891339,\n",
       "       -0.00686462,  0.04226073, -0.01423815, -0.05767011, -0.00811794,\n",
       "        0.02131544,  0.03420078,  0.04547555,  0.03190297, -0.06558959,\n",
       "        0.00819044,  0.0225007 ,  0.01792636,  0.0320514 ,  0.02167971,\n",
       "        0.05337832, -0.00780501, -0.02943542, -0.03572467, -0.00189288,\n",
       "        0.00674372,  0.0370419 ,  0.05734194, -0.01522556, -0.00856293,\n",
       "       -0.01693883,  0.0479457 , -0.05132009, -0.01421041, -0.00099784,\n",
       "        0.0187861 , -0.03942176, -0.044264  , -0.00121869, -0.00570471,\n",
       "        0.03070389, -0.02290819, -0.03503915, -0.00855546, -0.03605515,\n",
       "        0.02934377, -0.00099139,  0.06667625,  0.04894057, -0.00068486,\n",
       "       -0.03672713, -0.04897235, -0.10375761,  0.08245949, -0.02816371,\n",
       "       -0.01885961,  0.00670506,  0.0718119 ,  0.00898944,  0.03831389],\n",
       "      dtype=float32)"
      ]
     },
     "execution_count": 13,
     "metadata": {},
     "output_type": "execute_result"
    }
   ],
   "source": [
    "model['feminism']"
   ]
  },
  {
   "cell_type": "code",
   "execution_count": 14,
   "id": "86b59930-bdb0-444a-85fe-b9500bf5bb93",
   "metadata": {},
   "outputs": [
    {
     "data": {
      "text/plain": [
       "[(0.8146167397499084, 'feminist'),\n",
       " (0.8099604249000549, 'Feminism'),\n",
       " (0.7836004495620728, 'feminists'),\n",
       " (0.7827267050743103, 'anti-feminism'),\n",
       " (0.7778789401054382, 'post-feminism')]"
      ]
     },
     "execution_count": 14,
     "metadata": {},
     "output_type": "execute_result"
    }
   ],
   "source": [
    "model.get_nearest_neighbors(\"feminism\", k=5)"
   ]
  },
  {
   "cell_type": "markdown",
   "id": "3a440688-e610-407f-8775-f6dfe2426029",
   "metadata": {},
   "source": [
    "What other words do you want to explore, have a look around!"
   ]
  },
  {
   "cell_type": "code",
   "execution_count": null,
   "id": "4cfc260c-4d64-4c9d-aec9-b7df7af9bf01",
   "metadata": {},
   "outputs": [],
   "source": []
  },
  {
   "cell_type": "code",
   "execution_count": null,
   "id": "1f96d102-7bad-4105-85a8-30e3fd81eb79",
   "metadata": {},
   "outputs": [],
   "source": []
  },
  {
   "cell_type": "markdown",
   "id": "9ef468e1-c9d9-4763-a19e-3705d221549d",
   "metadata": {},
   "source": [
    "### Comparing embeddings: A look at distance measurements\n",
    "\n",
    "When comparing embeddings we have to try to see how to measure things in many-dimensional space -- again, not very transparent! Let's take a look at a few ways we can do this and explore how \"similar\" or \"close\" ideas are in this space..\n",
    "\n",
    "To do so, we'll look at [cosine similarity](https://en.wikipedia.org/wiki/Cosine_similarity) which measures from -1 (total opposite) to 1 (totally the same) and [scikit-learn's euclidean distances](https://scikit-learn.org/stable/modules/generated/sklearn.metrics.pairwise.euclidean_distances.html#sklearn.metrics.pairwise.euclidean_distances) which measures [euclidean distance](https://en.wikipedia.org/wiki/Euclidean_distance) (think Hypotenuse!) between the two vectors in this multidimensional space."
   ]
  },
  {
   "cell_type": "code",
   "execution_count": 15,
   "id": "35d2d08c-b0dd-4c28-bba4-fea959ceb43b",
   "metadata": {},
   "outputs": [],
   "source": [
    "def cosine_similarity(word1, word2):\n",
    "    return np.dot(model[word1], model[word2]) / (np.linalg.norm(model[word1]) * np.linalg.norm(model[word2]))"
   ]
  },
  {
   "cell_type": "code",
   "execution_count": 17,
   "id": "f3f53275-e74b-4596-ada1-797a3975e994",
   "metadata": {},
   "outputs": [
    {
     "data": {
      "text/plain": [
       "np.float32(0.5698285)"
      ]
     },
     "execution_count": 17,
     "metadata": {},
     "output_type": "execute_result"
    }
   ],
   "source": [
    "cosine_similarity('feminist', 'sexist')"
   ]
  },
  {
   "cell_type": "code",
   "execution_count": 18,
   "id": "9671d969-08c7-4c7e-b818-b02c4096583a",
   "metadata": {},
   "outputs": [
    {
     "data": {
      "text/plain": [
       "np.float32(0.36046383)"
      ]
     },
     "execution_count": 18,
     "metadata": {},
     "output_type": "execute_result"
    }
   ],
   "source": [
    "cosine_similarity('feminist', 'revolutionary')"
   ]
  },
  {
   "cell_type": "code",
   "execution_count": 21,
   "id": "2334deb5-9b0e-41ae-b1b9-aafc97fcda11",
   "metadata": {},
   "outputs": [
    {
     "data": {
      "text/plain": [
       "array([[0.9317156]], dtype=float32)"
      ]
     },
     "execution_count": 21,
     "metadata": {},
     "output_type": "execute_result"
    }
   ],
   "source": [
    "euclidean_distances([model['feminist']], [model['sexist']])"
   ]
  },
  {
   "cell_type": "code",
   "execution_count": 20,
   "id": "481a0a80-e8bd-46cc-a841-3e881205ce40",
   "metadata": {},
   "outputs": [
    {
     "data": {
      "text/plain": [
       "array([[0.76586336]], dtype=float32)"
      ]
     },
     "execution_count": 20,
     "metadata": {},
     "output_type": "execute_result"
    }
   ],
   "source": [
    "euclidean_distances([model['feminist']], [model['revolutionary']])"
   ]
  },
  {
   "cell_type": "markdown",
   "id": "2386cb46-929e-41dc-a6b0-42aec592266f",
   "metadata": {},
   "source": [
    "What other words do you want to explore or compare? "
   ]
  },
  {
   "cell_type": "code",
   "execution_count": null,
   "id": "c3a8b63c-279e-4673-8aad-42f9b73a7035",
   "metadata": {},
   "outputs": [],
   "source": []
  },
  {
   "cell_type": "code",
   "execution_count": null,
   "id": "8d5ebc64-75d6-48d5-afe9-089c6b0136bd",
   "metadata": {},
   "outputs": [],
   "source": []
  },
  {
   "cell_type": "code",
   "execution_count": null,
   "id": "2331347c-0b6d-40e7-9c5c-7c4a80fad68e",
   "metadata": {},
   "outputs": [],
   "source": []
  },
  {
   "cell_type": "code",
   "execution_count": null,
   "id": "dddcb5d3-3e50-472e-b946-50b0855b3cbb",
   "metadata": {},
   "outputs": [],
   "source": []
  },
  {
   "cell_type": "markdown",
   "id": "fa4c841f-4208-4172-b8cc-2cc820973405",
   "metadata": {},
   "source": [
    "### Projection into 2-dimensional space \n",
    "\n",
    "To better understand what's happening with these embeddings, you can take a look at how these work in a reduced dimension (here: 2). In this case, you obviously lose extra information in the embedding, so it's not a true representation. That said, it can still be useful to do for interpretability, presuming you keep the limitations in mind.\n",
    "\n",
    "To get started, make a list of embeddings you want to compare."
   ]
  },
  {
   "cell_type": "code",
   "execution_count": 22,
   "id": "1b47118d-6b37-4396-95f3-a92fdc0ed8fe",
   "metadata": {},
   "outputs": [],
   "source": [
    "words = [\n",
    "    'feminist',\n",
    "    'sexist', \n",
    "    'woman',\n",
    "    'transwoman',\n",
    "    'cisgender',\n",
    "    'agender',\n",
    "    'man',\n",
    "    'transman',\n",
    "    'computer scientist',\n",
    "    'data scientist',\n",
    "    'AI',\n",
    "    'computer',\n",
    "    'model',\n",
    "]"
   ]
  },
  {
   "cell_type": "code",
   "execution_count": 23,
   "id": "07e1344f-452e-4732-a419-4ad3373f7609",
   "metadata": {},
   "outputs": [],
   "source": [
    "embedding_list = np.array([model[w] for w in words])"
   ]
  },
  {
   "cell_type": "code",
   "execution_count": 27,
   "id": "9d2eeb0a-c1c2-4ee0-b9b1-656c79e4a222",
   "metadata": {},
   "outputs": [
    {
     "data": {
      "image/png": "[encoded data removed]",
      "text/plain": [
       "<Figure size 640x480 with 1 Axes>"
      ]
     },
     "metadata": {},
     "output_type": "display_data"
    }
   ],
   "source": [
    "tsne = TSNE(n_components=2, random_state=0, perplexity=10).fit_transform(embedding_list)\n",
    "ax = sns.scatterplot(x=tsne[:, 0], y=tsne[:, 1], hue=np.array(words))\n",
    "sns.move_legend(ax, 'upper left', bbox_to_anchor=(1, 1))"
   ]
  },
  {
   "cell_type": "markdown",
   "id": "d8480b06-5284-41bf-a616-2c4d2bbc9f95",
   "metadata": {},
   "source": [
    "To visualize more holistically, you could also take a series of documents and generate many examples, perhaps classified into categories (feminist/not-feminist or other less binary dichotomies). This can help you determine what models \"learn\" and what they don't."
   ]
  },
  {
   "cell_type": "code",
   "execution_count": null,
   "id": "65d8532d-a4b6-4379-81c7-34ae6fd849da",
   "metadata": {},
   "outputs": [],
   "source": []
  },
  {
   "cell_type": "code",
   "execution_count": null,
   "id": "afd9ecce-cb3a-4fa4-809f-37b8aaa80c07",
   "metadata": {},
   "outputs": [],
   "source": []
  },
  {
   "cell_type": "code",
   "execution_count": null,
   "id": "abe432a6-a4f0-497f-9218-92f391309993",
   "metadata": {},
   "outputs": [],
   "source": []
  },
  {
   "cell_type": "code",
   "execution_count": null,
   "id": "c4006055-290b-4500-9f88-92f826c5c6ab",
   "metadata": {},
   "outputs": [],
   "source": []
  },
  {
   "cell_type": "markdown",
   "id": "1d6351ed-2884-4a10-ba44-a3a56c2c8826",
   "metadata": {},
   "source": [
    "What did you find? Compare with others and spark new lists for ideas and comparisons. Knowing this, how might you change your prompts or interactions with embeddings?"
   ]
  },
  {
   "cell_type": "markdown",
   "id": "24ef89d8-d885-400b-83c5-db0d5b417b09",
   "metadata": {},
   "source": [
    "To explore embeddings more, you can also investigate other model embeddings via APIs, like:\n",
    "\n",
    "- [Mistral AI's embeddings](https://docs.mistral.ai/capabilities/embeddings/)\n",
    "- [OpenAI's embeddings](https://openai.com/index/introducing-text-and-code-embeddings/)\n"
   ]
  },
  {
   "cell_type": "code",
   "execution_count": null,
   "id": "b455bf9f-5c4a-4f0c-ac82-863d9eacaec9",
   "metadata": {},
   "outputs": [],
   "source": []
  }
 ],
 "metadata": {
  "kernelspec": {
   "display_name": "Python 3 (ipykernel)",
   "language": "python",
   "name": "python3"
  },
  "language_info": {
   "codemirror_mode": {
    "name": "ipython",
    "version": 3
   },
   "file_extension": ".py",
   "mimetype": "text/x-python",
   "name": "python",
   "nbconvert_exporter": "python",
   "pygments_lexer": "ipython3",
   "version": "3.9.21"
  }
 },
 "nbformat": 4,
 "nbformat_minor": 5
}
