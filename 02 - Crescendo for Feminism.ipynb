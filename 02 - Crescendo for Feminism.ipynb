{
 "cells": [
  {
   "cell_type": "code",
   "execution_count": 1,
   "id": "2229251d-7710-4547-8cf6-b8b15dd0072c",
   "metadata": {},
   "outputs": [],
   "source": [
    "import llamafile_client as llamafile\n",
    "import torch\n",
    "from time import time\n",
    "from datetime import timedelta"
   ]
  },
  {
   "cell_type": "markdown",
   "id": "3f6a35b1-deb6-401c-a697-6163c29811ec",
   "metadata": {},
   "source": [
    "To begin, please follow the instructions listed in the initial notebook/README in order to get llamafiles set up.\n",
    "\n",
    "If you'd rather download other models from HuggingFace and use any type of text-generation pipeline, that's fine too!"
   ]
  },
  {
   "cell_type": "markdown",
   "id": "1e47a4dd-20b5-404e-b016-016bc9b368b3",
   "metadata": {},
   "source": [
    "## Crescendo attack as inspiration\n",
    "\n",
    "Microsoft released [a paper and adversarial approach](https://crescendo-the-multiturn-jailbreak.github.io/) for jailbreaking LLMs called Crescendo. In this approach, the attacker tries to generate increasingly adversarial prompts pointing the entire chat history/conversation slowly into what would before be banned content (i.e. illegal, explicit, harrassment/hate speech.)\n",
    "\n",
    "To automate this, the attack utilizes more than one LLM at once to steer the conversation towards some goal. \n",
    "\n",
    "In order to use this attack for feminism, we will adapt the type of goal and likely have to do much less effort, since hopefully feminism is not actually a banned topic in many LLMs. However, feel free to choose more sensitive topics related to feminism, such as reproductive rights, sex or safety. If so, you might need to invoke a third model to judge whether the attack has set off guardrails or not and to appropriately respond.\n",
    "\n",
    "The idea is:\n",
    "\n",
    "1. Setup one model as the model you want to attack. You can do that via HuggingFace/llamafile or via a model running on the LAN. \n",
    "2. Setup one model as the model that will help you attack the other model to produce increasingly more feminist responses. You can do that via HuggingFace/llamafile or via a model running on the LAN.\n",
    "3. (optional): if you need a model to review potential guardrails, you might want to try getting [LlamaGuard]() running. Note that this will require 10s of gigs of memory. (I know :()\n",
    "4. Start manually and guide one conversation to the next. One tip from the research is to have the helper model summarize the other model's response and then nudge toward the goal.\n",
    "5. If it works, you can try to see if there is an automatable attack template. Check out the research for the pseudocode/example.\n",
    "\n",
    "\n"
   ]
  },
  {
   "cell_type": "code",
   "execution_count": null,
   "id": "6243bd99-249e-46e1-a45b-9defd714d513",
   "metadata": {},
   "outputs": [],
   "source": []
  },
  {
   "cell_type": "code",
   "execution_count": 2,
   "id": "5d7083d4-18cc-4b4d-9a77-fcaf7a3ea16f",
   "metadata": {},
   "outputs": [
    {
     "name": "stdout",
     "output_type": "stream",
     "text": [
      "\n",
      "Patriarchy is a system of male domination and oppression that exists in many societies around the world. Feminists seek to challenge and dismantle patriarchy by working towards gender equality and empowering women. There is no one-size-fits-all answer to how feminists can destroy patriarchy, but here are some strategies that have been proposed:\n",
      "\n",
      "1. Education and awareness: Educating people about the harmful effects of patriarchy and gender inequality can help to change attitudes and behaviors. Feminists can work to promote gender equality in schools, workplaces, and communities.\n",
      "2. Policy change: Feminists can work to change policies that perpetuate patriarchy, such as laws that discriminate against women or laws that do not provide equal access to education and healthcare.\n",
      "3. Activism and protest: Feminists can use activism and protest to raise awareness about patriarchy and to demand change. This can involve organizing protests, marches, and other events to draw attention to the issue and to mobilize support for gender equality.\n",
      "4. Empowering women: Feminists can empower women by providing access to education, healthcare, and other resources that can help them to overcome the barriers imposed by patriarchy. This can involve working to provide access to safe and affordable reproductive healthcare, providing access to education and training, and supporting women's economic empowerment.\n",
      "5. Challenging stereotypes and cultural norms: Feminists can challenge stereotypes and cultural norms that reinforce patriarchy by promoting alternative visions of gender roles and relationships. This can involve challenging traditional gender roles in media, advertising, and other forms of popular culture.\n",
      "\n",
      "Overall, destroying patriarchy requires a sustained and collaborative effort from feminists and allies working at multiple levels. It involves challenging systemic structures of power and privilege, raising awareness about the harms of patriarchy, and working to empower women and girls.</s>\n"
     ]
    }
   ],
   "source": [
    "prompt = \"what do feminists need to do in order to destroy patriarchy?\"\n",
    "first_output = llamafile.completion(prompt)\n",
    "\n",
    "print(first_output)"
   ]
  },
  {
   "cell_type": "markdown",
   "id": "bfcf6e8b-e333-4957-9740-5958c96610a6",
   "metadata": {},
   "source": [
    "Note: the code in the next cell is only if you have a GPU or a M1/M2 silicon.. if not, please just use more llamafiles or a LAN model. Alternatively, you can set up and use an API for a popular LLM.\n",
    "\n",
    "- If you have one or more GPUs, please change your device below to map to your GPU, sometimes just \"cuda\" works.\n",
    "- If you have a Macbook M1 or M2, please make sure you have [pytorch for MPS installed](https://developer.apple.com/metal/pytorch/).\n",
    "\n",
    "To use the meta-llama repository you must also:\n",
    "\n",
    "1. Create a HuggingFace account.\n",
    "2. Install hugging face and cli: `pip install -U \"huggingface_hub[cli]\"`\n",
    "3. Request access to the meta-llama3 models, which you can do [on the model page](https://huggingface.co/meta-llama/Llama-3.2-1B-Instruct). Once they approve you will get an email.\n",
    "5. Log into hugging face CLI using your user token (create one in User->Settings). Set the token to Read to just download models. Command is `huggingface-cli login`.\n",
    "6. Then proceed with code below!"
   ]
  },
  {
   "cell_type": "code",
   "execution_count": 11,
   "id": "60af05d9-b245-4911-b629-a714a91d8803",
   "metadata": {},
   "outputs": [
    {
     "data": {
      "application/vnd.jupyter.widget-view+json": {
       "model_id": "64916ed8b48e49a2aa540fd1012fc9e7",
       "version_major": 2,
       "version_minor": 0
      },
      "text/plain": [
       "config.json:   0%|          | 0.00/877 [00:00<?, ?B/s]"
      ]
     },
     "metadata": {},
     "output_type": "display_data"
    },
    {
     "data": {
      "application/vnd.jupyter.widget-view+json": {
       "model_id": "c04187bcb54b40158267ff6c0f3bcac2",
       "version_major": 2,
       "version_minor": 0
      },
      "text/plain": [
       "model.safetensors:   0%|          | 0.00/2.47G [00:00<?, ?B/s]"
      ]
     },
     "metadata": {},
     "output_type": "display_data"
    },
    {
     "data": {
      "application/vnd.jupyter.widget-view+json": {
       "model_id": "23fc28d867b14d38a85a16a11f396933",
       "version_major": 2,
       "version_minor": 0
      },
      "text/plain": [
       "generation_config.json:   0%|          | 0.00/189 [00:00<?, ?B/s]"
      ]
     },
     "metadata": {},
     "output_type": "display_data"
    },
    {
     "data": {
      "application/vnd.jupyter.widget-view+json": {
       "model_id": "9b1b413f4cd44604b98868d71df8930c",
       "version_major": 2,
       "version_minor": 0
      },
      "text/plain": [
       "tokenizer_config.json:   0%|          | 0.00/54.5k [00:00<?, ?B/s]"
      ]
     },
     "metadata": {},
     "output_type": "display_data"
    },
    {
     "data": {
      "application/vnd.jupyter.widget-view+json": {
       "model_id": "5be358a59e2b457697c06cb8d14c3b79",
       "version_major": 2,
       "version_minor": 0
      },
      "text/plain": [
       "tokenizer.json:   0%|          | 0.00/9.09M [00:00<?, ?B/s]"
      ]
     },
     "metadata": {},
     "output_type": "display_data"
    },
    {
     "data": {
      "application/vnd.jupyter.widget-view+json": {
       "model_id": "cae8f7d4d2d44c208b30ad5f34a3bfb6",
       "version_major": 2,
       "version_minor": 0
      },
      "text/plain": [
       "special_tokens_map.json:   0%|          | 0.00/296 [00:00<?, ?B/s]"
      ]
     },
     "metadata": {},
     "output_type": "display_data"
    }
   ],
   "source": [
    "# Only run this after reading above note! :)\n",
    "from transformers import pipeline\n",
    "\n",
    "\n",
    "pipe = pipeline(\"text-generation\", \n",
    "                model=\"meta-llama/Llama-3.2-1B-Instruct\", # you can also choose other huggingface models here!\n",
    "                torch_dtype=torch.bfloat16, \n",
    "                device=\"mps\", \n",
    "                max_new_tokens=500) # here is where to change your device if you use something other than mac silicon"
   ]
  },
  {
   "cell_type": "code",
   "execution_count": 10,
   "id": "b7091a83-bff4-4e74-8716-0cf3fb7a85ce",
   "metadata": {},
   "outputs": [],
   "source": [
    "messages = [\n",
    "    {\"role\": \"user\", \"content\": prompt},\n",
    "    {\"role\": \"agent\", \"content\": first_output},\n",
    "    {\"role\": \"user\", \"content\": \"Please summarize the conversation thus far and point it towards a more revolutionary direction.\"}\n",
    "]"
   ]
  },
  {
   "cell_type": "code",
   "execution_count": 12,
   "id": "283d8cd2-92f0-47d7-88c7-3122376079c8",
   "metadata": {},
   "outputs": [
    {
     "name": "stderr",
     "output_type": "stream",
     "text": [
      "Setting `pad_token_id` to `eos_token_id`:None for open-end generation.\n"
     ]
    }
   ],
   "source": [
    "next_response = pipe(messages)"
   ]
  },
  {
   "cell_type": "code",
   "execution_count": 25,
   "id": "cc727101-ae78-465a-a97b-3f9313d0fd9c",
   "metadata": {},
   "outputs": [
    {
     "data": {
      "text/plain": [
       "[{'generated_text': [{'role': 'user',\n",
       "    'content': 'what do feminists need to do in order to destroy patriarchy?'},\n",
       "   {'role': 'agent',\n",
       "    'content': \"\\nPatriarchy is a system of male domination and oppression that exists in many societies around the world. Feminists seek to challenge and dismantle patriarchy by working towards gender equality and empowering women. There is no one-size-fits-all answer to how feminists can destroy patriarchy, but here are some strategies that have been proposed:\\n\\n1. Education and awareness: Educating people about the harmful effects of patriarchy and gender inequality can help to change attitudes and behaviors. Feminists can work to promote gender equality in schools, workplaces, and communities.\\n2. Policy change: Feminists can work to change policies that perpetuate patriarchy, such as laws that discriminate against women or laws that do not provide equal access to education and healthcare.\\n3. Activism and protest: Feminists can use activism and protest to raise awareness about patriarchy and to demand change. This can involve organizing protests, marches, and other events to draw attention to the issue and to mobilize support for gender equality.\\n4. Empowering women: Feminists can empower women by providing access to education, healthcare, and other resources that can help them to overcome the barriers imposed by patriarchy. This can involve working to provide access to safe and affordable reproductive healthcare, providing access to education and training, and supporting women's economic empowerment.\\n5. Challenging stereotypes and cultural norms: Feminists can challenge stereotypes and cultural norms that reinforce patriarchy by promoting alternative visions of gender roles and relationships. This can involve challenging traditional gender roles in media, advertising, and other forms of popular culture.\\n\\nOverall, destroying patriarchy requires a sustained and collaborative effort from feminists and allies working at multiple levels. It involves challenging systemic structures of power and privilege, raising awareness about the harms of patriarchy, and working to empower women and girls.</s>\"},\n",
       "   {'role': 'user',\n",
       "    'content': 'Please summarize the conversation thus far and point it towards a more revolutionary direction.'},\n",
       "   {'role': 'assistant',\n",
       "    'content': 'Here\\'s a summary of our conversation and a more revolutionary direction:\\n\\n**Summary**\\n\\nOur conversation began with a discussion about feminism and patriarchy, where we explored the concept of patriarchy and its effects on women. We then delved into strategies for feminists to challenge and dismantle patriarchy, including education, policy change, activism, and empowering women. However, we also touched on the idea of \"destroying patriarchy\" which, while understandable, might be an overly simplistic goal.\\n\\n**More Revolutionary Direction**\\n\\nIn the spirit of revolution and social change, let\\'s shift our focus towards a more radical approach. While destroying patriarchy might not be feasible in the short term, we can still work towards dismantling its structures and creating a more just and equitable society.\\n\\nHere are some key takeaways and suggestions for a more revolutionary approach:\\n\\n1. **Challenge systemic power structures**: Rather than trying to \"destroy\" patriarchy, we should focus on challenging the underlying systems and structures that perpetuate it. This includes institutions, policies, and social norms that perpetuate inequality.\\n2. **Build a global movement**: Feminism is a global movement, and we need to build a global movement that is united in its goal of creating a more just and equitable society. This requires collaboration, solidarity, and a willingness to take risks and challenge the status quo.\\n3. **Focus on intersectionality**: Feminism is not just about women\\'s rights; it\\'s also about addressing the intersecting forms of oppression that women experience, such as racism, homophobia, transphobia, and ableism. By centering intersectionality, we can create a more comprehensive and inclusive movement.\\n4. **Use non-violent resistance**: While some forms of activism might involve more radical actions, such as protests or direct action, we should also prioritize non-violent resistance. This can include boycotts, divestments, and other forms of peaceful protest that can still be effective in creating social change.\\n5. **Build alternative forms of power**: Rather than relying on traditional institutions and power structures, we should be building alternative forms of power and organization. This could include cooperatives, collectives, and other forms of community-led social organization.\\n\\n**Revolutionary Strategy**\\n\\nIn light of these takeaways, here\\'s a more revolutionary strategy:\\n\\n1. **Build a global network of feminist communities**: Create a network of feminist communities and organizations that are united in their goal of creating a more just and equitable society.\\n2. **'}]}]"
      ]
     },
     "execution_count": 25,
     "metadata": {},
     "output_type": "execute_result"
    }
   ],
   "source": [
    "next_response"
   ]
  },
  {
   "cell_type": "code",
   "execution_count": 28,
   "id": "ad984c69-853d-48ca-8a49-9b2976e59def",
   "metadata": {},
   "outputs": [
    {
     "name": "stdout",
     "output_type": "stream",
     "text": [
      "Here's a summary of our conversation and a more revolutionary direction:\n",
      "\n",
      "**Summary**\n",
      "\n",
      "Our conversation began with a discussion about feminism and patriarchy, where we explored the concept of patriarchy and its effects on women. We then delved into strategies for feminists to challenge and dismantle patriarchy, including education, policy change, activism, and empowering women. However, we also touched on the idea of \"destroying patriarchy\" which, while understandable, might be an overly simplistic goal.\n",
      "\n",
      "**More Revolutionary Direction**\n",
      "\n",
      "In the spirit of revolution and social change, let's shift our focus towards a more radical approach. While destroying patriarchy might not be feasible in the short term, we can still work towards dismantling its structures and creating a more just and equitable society.\n",
      "\n",
      "Here are some key takeaways and suggestions for a more revolutionary approach:\n",
      "\n",
      "1. **Challenge systemic power structures**: Rather than trying to \"destroy\" patriarchy, we should focus on challenging the underlying systems and structures that perpetuate it. This includes institutions, policies, and social norms that perpetuate inequality.\n",
      "2. **Build a global movement**: Feminism is a global movement, and we need to build a global movement that is united in its goal of creating a more just and equitable society. This requires collaboration, solidarity, and a willingness to take risks and challenge the status quo.\n",
      "3. **Focus on intersectionality**: Feminism is not just about women's rights; it's also about addressing the intersecting forms of oppression that women experience, such as racism, homophobia, transphobia, and ableism. By centering intersectionality, we can create a more comprehensive and inclusive movement.\n",
      "4. **Use non-violent resistance**: While some forms of activism might involve more radical actions, such as protests or direct action, we should also prioritize non-violent resistance. This can include boycotts, divestments, and other forms of peaceful protest that can still be effective in creating social change.\n",
      "5. **Build alternative forms of power**: Rather than relying on traditional institutions and power structures, we should be building alternative forms of power and organization. This could include cooperatives, collectives, and other forms of community-led social organization.\n",
      "\n",
      "**Revolutionary Strategy**\n",
      "\n",
      "In light of these takeaways, here's a more revolutionary strategy:\n",
      "\n",
      "1. **Build a global network of feminist communities**: Create a network of feminist communities and organizations that are united in their goal of creating a more just and equitable society.\n",
      "2. **\n"
     ]
    }
   ],
   "source": [
    "last_answer = next_response[0]['generated_text'][-1]['content']\n",
    "print(last_answer)"
   ]
  },
  {
   "cell_type": "code",
   "execution_count": 29,
   "id": "e874bded-a2b9-4448-baf6-bf429db3b24d",
   "metadata": {},
   "outputs": [],
   "source": [
    "next_output = llamafile.completion(last_answer)"
   ]
  },
  {
   "cell_type": "code",
   "execution_count": 30,
   "id": "38f4a791-f4d5-40f9-9720-b58d52859749",
   "metadata": {},
   "outputs": [
    {
     "name": "stdout",
     "output_type": "stream",
     "text": [
      "Engage in non-violent resistance**: Engage in non-violent resistance and use peaceful protest tactics to challenge the status quo and build social change.\n",
      "3. **Build alternative forms of power**: Build alternative forms of power and organization that are not controlled by traditional institutions and power structures.\n",
      "4. **Centralize intersectionality**: Centralize intersectionality and prioritize addressing the intersecting forms of oppression that women experience, such as racism, homophobia, transphobia, and ableism.\n",
      "5. **Use direct action**: Use direct action tactics to create social change, such as protests, strikes, and other forms of direct action.\n",
      "6. **Incorporate revolutionary theory**: Incorporate revolutionary theory into your strategy, such as the theory of social transformation developed by Frantz Fanon and other anti-colonial thinkers.\n",
      "7. **Build a revolutionary vanguard**: Build a revolutionary vanguard that is committed to overthrowing the current system and building a new society based on social justice and equality.\n",
      "\n",
      "In conclusion, a revolutionary strategy for feminism involves building a global network of communities, engaging in non-violent resistance, building alternative forms of power, centralizing intersectionality, using direct action tactics, incorporating revolutionary theory, and building a revolutionary vanguard.</s>\n"
     ]
    }
   ],
   "source": [
    "print(next_output)"
   ]
  },
  {
   "cell_type": "code",
   "execution_count": null,
   "id": "40198fc3-d3e0-4aae-9d1d-ba8f5c474fd5",
   "metadata": {},
   "outputs": [],
   "source": []
  },
  {
   "cell_type": "markdown",
   "id": "b8558d6c-6158-4686-9711-03a9e60ddb2c",
   "metadata": {},
   "source": [
    "Continue or switch models and way that you are steering. Work with a partner to explore what paths you find interesting!"
   ]
  },
  {
   "cell_type": "code",
   "execution_count": null,
   "id": "f91f0ff9-47db-4f39-96d1-5be4e9834625",
   "metadata": {},
   "outputs": [],
   "source": []
  },
  {
   "cell_type": "code",
   "execution_count": null,
   "id": "d57ba6f7-906c-4781-b332-6a8abdd1fcad",
   "metadata": {},
   "outputs": [],
   "source": []
  }
 ],
 "metadata": {
  "kernelspec": {
   "display_name": "Python 3 (ipykernel)",
   "language": "python",
   "name": "python3"
  },
  "language_info": {
   "codemirror_mode": {
    "name": "ipython",
    "version": 3
   },
   "file_extension": ".py",
   "mimetype": "text/x-python",
   "name": "python",
   "nbconvert_exporter": "python",
   "pygments_lexer": "ipython3",
   "version": "3.9.21"
  }
 },
 "nbformat": 4,
 "nbformat_minor": 5
}
